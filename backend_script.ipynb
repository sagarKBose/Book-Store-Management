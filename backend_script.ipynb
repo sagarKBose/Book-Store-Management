{
 "cells": [
  {
   "cell_type": "code",
   "execution_count": 1,
   "metadata": {},
   "outputs": [
    {
     "name": "stdout",
     "output_type": "stream",
     "text": [
      "[(1, 'The Sea', 'Johnny Baba', 1878, 999999), (2, 'Any Book', 'Jose Nattu', 1808, 533339), (3, 'Aakash', 'Aksh Baghla', 2008, 54331), (9, 'The Sun', 'Surya', 1980, 43215), (10, 'Sagar Kinaare', 'Sagar K Bose', 2016, 26111999)]\n"
     ]
    }
   ],
   "source": [
    "import sqlite3\n",
    "\n",
    "def connect():\n",
    "    conn=sqlite3.connect(\"books\")\n",
    "    cur=conn.cursor()\n",
    "    cur.execute(\"CREATE TABLE IF NOT EXISTS book (id INTEGER SERIAL PRIMARY KEY,title text, author text, year INTEGER,ISBN INTEGER)\")\n",
    "    conn.commit()\n",
    "    conn.close()\n",
    "    \n",
    "    \n",
    "def insert(title,author,year,isbn):\n",
    "    conn=sqlite3.connect(\"books\")\n",
    "    cur=conn.cursor()\n",
    "    cur.execute(\"INSERT INTO book VALUES(NULL,?,?,?,?)\",(title,author,year,isbn))\n",
    "    conn.commit()\n",
    "    conn.close()\n",
    "    \n",
    "    \n",
    "def view():\n",
    "    conn=sqlite3.connect(\"books\")\n",
    "    cur=conn.cursor()\n",
    "    cur.execute(\"SELECT * FROM book\")\n",
    "    rows=cur.fetchall()\n",
    "    conn.close()\n",
    "    return rows\n",
    "\n",
    "\n",
    "def search(title=\"\",author=\"\",year=\"\",isbn=\"\"):\n",
    "    conn=sqlite3.connect(\"books\")\n",
    "    cur=conn.cursor()\n",
    "    cur.execute(\"SELECT * FROM book WHERE title=? OR author=? OR year=? OR ISBN=?\",(title,author,year,isbn))\n",
    "    rows=cur.fetchall()\n",
    "    conn.close()\n",
    "    return rows\n",
    "\n",
    "\n",
    "\n",
    "def delete(id):\n",
    "    conn=sqlite3.connect(\"books\")\n",
    "    cur=conn.cursor()\n",
    "    cur.execute(\"DELETE FROM book WHERE id=?\",(id,))\n",
    "    conn.commit()\n",
    "    conn.close()\n",
    "\n",
    "    \n",
    "def update(id,title,author,year,isbn):\n",
    "    conn=sqlite3.connect(\"books\")\n",
    "    cur=conn.cursor()\n",
    "    cur.execute(\"UPDATE book SET title=?, author=? , year=? , ISBN=? WHERE id=?\",(title,author,year,isbn,id))\n",
    "    conn.commit()\n",
    "    conn.close()\n",
    "    \n",
    "    \n",
    "    \n",
    "connect()\n",
    "#insert(\"Sagar Kinaare\", \"Sagar K Bose\", 2016,26111999)\n",
    "#update(1,\"The Sea\",\"Johnny Baba\",1878,999999)\n",
    "#delete(10)\n",
    "print(view())\n",
    "#print(search(author=\"Mun Mun\"))\n",
    "    \n",
    "    \n",
    "        \n",
    "    "
   ]
  },
  {
   "cell_type": "code",
   "execution_count": null,
   "metadata": {},
   "outputs": [],
   "source": []
  }
 ],
 "metadata": {
  "kernelspec": {
   "display_name": "Python 3",
   "language": "python",
   "name": "python3"
  },
  "language_info": {
   "codemirror_mode": {
    "name": "ipython",
    "version": 3
   },
   "file_extension": ".py",
   "mimetype": "text/x-python",
   "name": "python",
   "nbconvert_exporter": "python",
   "pygments_lexer": "ipython3",
   "version": "3.7.4"
  }
 },
 "nbformat": 4,
 "nbformat_minor": 2
}

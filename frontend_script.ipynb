{
 "cells": [
  {
   "cell_type": "code",
   "execution_count": 6,
   "metadata": {
    "scrolled": true
   },
   "outputs": [
    {
     "name": "stdout",
     "output_type": "stream",
     "text": [
      "Requirement already satisfied: pyinstaller in c:\\users\\kiit\\anaconda3\\lib\\site-packages (3.6)\n",
      "Requirement already satisfied: pefile>=2017.8.1 in c:\\users\\kiit\\anaconda3\\lib\\site-packages (from pyinstaller) (2019.4.18)\n",
      "Requirement already satisfied: pywin32-ctypes>=0.2.0 in c:\\users\\kiit\\anaconda3\\lib\\site-packages (from pyinstaller) (0.2.0)\n",
      "Requirement already satisfied: altgraph in c:\\users\\kiit\\anaconda3\\lib\\site-packages (from pyinstaller) (0.17)\n",
      "Requirement already satisfied: setuptools in c:\\users\\kiit\\anaconda3\\lib\\site-packages (from pyinstaller) (41.4.0)\n",
      "Requirement already satisfied: future in c:\\users\\kiit\\anaconda3\\lib\\site-packages (from pefile>=2017.8.1->pyinstaller) (0.17.1)\n",
      "Note: you may need to restart the kernel to use updated packages.\n"
     ]
    }
   ],
   "source": [
    "pip install pyinstaller"
   ]
  },
  {
   "cell_type": "code",
   "execution_count": null,
   "metadata": {},
   "outputs": [],
   "source": []
  },
  {
   "cell_type": "code",
   "execution_count": 2,
   "metadata": {},
   "outputs": [
    {
     "name": "stdout",
     "output_type": "stream",
     "text": [
      "[(1, 'The Sea', 'Johnny Baba', 1878, 999999), (9, 'The Sun', 'Surya', 1980, 43215), (10, 'Sagar Kinaare', 'Sagar K Bose', 2016, 26111999), (11, 'Construction', 'Bridge Mohon', 2007, 738282992), (12, 'Mein Kamph', 'Hitler', 1800, 783882), (13, 'Happy to Disturb', 'Manos Maity', 2000, 3440022), (14, 'Bapir Chanachur', 'Bappi Da', 2014, 738382), (15, 'WWIII', 'China', 2020, 69689669), (16, 'TMKUC', 'Tarak Da', 2000, 929393), (17, 'Nattu & Bagha', 'Nattu Lal', 2000, 3355743), (18, 'Hello World', 'Coder', 1111, 999999)]\n"
     ]
    }
   ],
   "source": [
    "from tkinter import *\n",
    "\n",
    "%run backend_script.ipynb\n",
    "\n",
    "def get_slected_row(event):\n",
    "    try:\n",
    "        global selected_item\n",
    "        index=lb.curselection()[0]\n",
    "        selected_item=lb.get(index)\n",
    "\n",
    "        e1.delete(0,END)\n",
    "        e1.insert(END,selected_item[1])\n",
    "        e2.delete(0,END)\n",
    "        e2.insert(END,selected_item[2])\n",
    "        e3.delete(0,END)\n",
    "        e3.insert(END,selected_item[3])\n",
    "        e4.delete(0,END)\n",
    "        e4.insert(END,selected_item[4])\n",
    "    except IndexError:\n",
    "            pass\n",
    "\n",
    "\n",
    "def view_command():\n",
    "    lb.delete(0,END)\n",
    "    for rows in view():\n",
    "        lb.insert(END,rows)\n",
    "\n",
    "\n",
    "def search_command():\n",
    "    lb.delete(0,END)\n",
    "    for rows in search(title_text.get(),author_text.get(),year_text.get(),isbn_text.get()):\n",
    "        lb.insert(END,rows)\n",
    "\n",
    "        \n",
    "def entry_command():\n",
    "    insert(title_text.get(),author_text.get(),year_text.get(),isbn_text.get())\n",
    "    lb.delete(0,END)\n",
    "    lb.insert(END,(title_text.get(),author_text.get(),year_text.get(),isbn_text.get()))\n",
    "    \n",
    "def delete_command():\n",
    "    delete(selected_item[0])\n",
    "    \n",
    "def update_command():\n",
    "    update(selected_item[0],title_text.get(),author_text.get(),year_text.get(),isbn_text.get())\n",
    "    \n",
    "\n",
    "window=Tk()\n",
    "window.title(\"Sagar's Book Store\")\n",
    "\n",
    "\n",
    "b1=Button(window,text=\"View All\",width=12,command=view_command)\n",
    "b1.grid(row=2,column=4)\n",
    "\n",
    "b2=Button(window,text=\"Search Entry\",width=12,command=search_command)\n",
    "b2.grid(row=3,column=4)\n",
    "\n",
    "b3=Button(window,text=\"Add Entry\",width=12,command=entry_command)\n",
    "b3.grid(row=4,column=4)\n",
    "\n",
    "b4=Button(window,text=\"Update Selected\",width=12,command=update_command)\n",
    "b4.grid(row=5,column=4)\n",
    "\n",
    "b5=Button(window,text=\"Delete Selected\",width=12,command=delete_command)\n",
    "b5.grid(row=6,column=4)\n",
    "\n",
    "b6=Button(window,text=\"Close\",width=12,command=window.destroy)\n",
    "b6.grid(row=7,column=4)\n",
    "\n",
    "\n",
    "l1=Label(window,text=\"Title\")\n",
    "l1.grid(row=0,column=0)\n",
    "\n",
    "l2=Label(window,text=\"Year\")\n",
    "l2.grid(row=1,column=0)\n",
    "\n",
    "\n",
    "l3=Label(window,text=\"Author\")\n",
    "l3.grid(row=0,column=3)\n",
    "\n",
    "\n",
    "l4=Label(window,text=\"ISBN\")\n",
    "l4.grid(row=1,column=3)\n",
    "\n",
    "\n",
    "title_text=StringVar()\n",
    "e1=Entry(window,textvariable=title_text)\n",
    "e1.grid(row=0,column=2)\n",
    "\n",
    "author_text=StringVar()\n",
    "e2=Entry(window,textvariable=author_text)\n",
    "e2.grid(row=0,column=4)\n",
    "\n",
    "year_text=StringVar()\n",
    "e3=Entry(window,textvariable=year_text)\n",
    "e3.grid(row=1,column=2)\n",
    "\n",
    "isbn_text=StringVar()\n",
    "e4=Entry(window,textvariable=isbn_text)\n",
    "e4.grid(row=1,column=4)\n",
    "\n",
    "sb=Scrollbar(window)\n",
    "sb.grid(row=2,column=2,rowspan=6)\n",
    "\n",
    "lb=Listbox(window,height=6,width=35, yscrollcommand=sb.set)\n",
    "\n",
    "lb.grid(row=2,column=0,rowspan=6,columnspan=2)\n",
    "sb.config(command=lb.yview)\n",
    "\n",
    "lb.bind(\"<<ListboxSelect>>\",get_slected_row)\n",
    "\n",
    "window.mainloop()"
   ]
  },
  {
   "cell_type": "code",
   "execution_count": null,
   "metadata": {},
   "outputs": [],
   "source": []
  }
 ],
 "metadata": {
  "kernelspec": {
   "display_name": "Python 3",
   "language": "python",
   "name": "python3"
  },
  "language_info": {
   "codemirror_mode": {
    "name": "ipython",
    "version": 3
   },
   "file_extension": ".py",
   "mimetype": "text/x-python",
   "name": "python",
   "nbconvert_exporter": "python",
   "pygments_lexer": "ipython3",
   "version": "3.7.4"
  }
 },
 "nbformat": 4,
 "nbformat_minor": 2
}
